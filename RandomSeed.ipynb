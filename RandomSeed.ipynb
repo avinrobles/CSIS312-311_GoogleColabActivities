{
  "nbformat": 4,
  "nbformat_minor": 0,
  "metadata": {
    "colab": {
      "provenance": []
    },
    "kernelspec": {
      "name": "python3",
      "display_name": "Python 3"
    },
    "language_info": {
      "name": "python"
    }
  },
  "cells": [
    {
      "cell_type": "code",
      "execution_count": null,
      "metadata": {
        "id": "69taJA2YY_wp"
      },
      "outputs": [],
      "source": [
        "from numpy import random\n",
        "\n",
        "random.seed(0)\n",
        "\n",
        "totals = {20:0, 30:0, 40:0, 50:0, 60:0, 70:0}\n",
        "purchases = {20:0, 30:0, 40:0, 50:0, 60:0, 70:0}\n",
        "totalPurchases = 0\n",
        "\n",
        "for _ in range(100000):\n",
        "  ageDecade = random.choice([20,30,40,50,60,70])\n",
        "  purchaseProbability = float (ageDecade/100.0)\n",
        "  totals[ageDecade] += 1\n",
        "  if (random.random() < purchaseProbability):\n",
        "    totalPurchases += 1\n",
        "    purchases[ageDecade] += 1"
      ]
    },
    {
      "cell_type": "code",
      "source": [
        "totals"
      ],
      "metadata": {
        "colab": {
          "base_uri": "https://localhost:8080/"
        },
        "id": "Bwd_7CEVeI9g",
        "outputId": "e827bfb5-e360-47bd-f636-a506dc2c307c"
      },
      "execution_count": null,
      "outputs": [
        {
          "output_type": "execute_result",
          "data": {
            "text/plain": [
              "{20: 16576, 30: 16619, 40: 16632, 50: 16805, 60: 16664, 70: 16704}"
            ]
          },
          "metadata": {},
          "execution_count": 90
        }
      ]
    },
    {
      "cell_type": "code",
      "source": [
        "purchases"
      ],
      "metadata": {
        "colab": {
          "base_uri": "https://localhost:8080/"
        },
        "id": "y1zNbq7Eet6n",
        "outputId": "5868a542-feec-4a41-be08-47adf645622c"
      },
      "execution_count": null,
      "outputs": [
        {
          "output_type": "execute_result",
          "data": {
            "text/plain": [
              "{20: 3392, 30: 4974, 40: 6670, 50: 8319, 60: 9944, 70: 11713}"
            ]
          },
          "metadata": {},
          "execution_count": 91
        }
      ]
    },
    {
      "cell_type": "code",
      "source": [
        "totalPurchases"
      ],
      "metadata": {
        "colab": {
          "base_uri": "https://localhost:8080/"
        },
        "id": "YEXExum6e_Tn",
        "outputId": "b17832fa-2855-4be7-dcd1-1c6bbf770c23"
      },
      "execution_count": null,
      "outputs": [
        {
          "output_type": "execute_result",
          "data": {
            "text/plain": [
              "45012"
            ]
          },
          "metadata": {},
          "execution_count": 92
        }
      ]
    },
    {
      "cell_type": "code",
      "source": [
        "PEF = float(purchases[30])/ float(totals[30])\n",
        "print('P(purchase | 30s):' + str(PEF))"
      ],
      "metadata": {
        "colab": {
          "base_uri": "https://localhost:8080/"
        },
        "id": "IWpFFnbVgm7X",
        "outputId": "34561324-d35a-48d0-a8a9-f46a15685c20"
      },
      "execution_count": null,
      "outputs": [
        {
          "output_type": "stream",
          "name": "stdout",
          "text": [
            "P(purchase | 30s):0.29929598652145134\n"
          ]
        }
      ]
    },
    {
      "cell_type": "code",
      "source": [
        "#NEED\n",
        "PF = float(purchases[30])/ 100000.0\n",
        "print('P(30s):' + str(PF))"
      ],
      "metadata": {
        "colab": {
          "base_uri": "https://localhost:8080/"
        },
        "id": "rPY0wW7rhSa-",
        "outputId": "476d56d0-0d90-4479-fc22-8ee995101d0b"
      },
      "execution_count": null,
      "outputs": [
        {
          "output_type": "stream",
          "name": "stdout",
          "text": [
            "P(30s):0.04974\n"
          ]
        }
      ]
    },
    {
      "cell_type": "code",
      "source": [
        "#NEED\n",
        "P = float(purchases[30])/ 100000.0\n",
        "print('P(30s):' + str(PE))"
      ],
      "metadata": {
        "colab": {
          "base_uri": "https://localhost:8080/"
        },
        "id": "jhFmq-x6jdTG",
        "outputId": "6e04bf56-5b0b-4df5-c46c-524663716db4"
      },
      "execution_count": null,
      "outputs": [
        {
          "output_type": "stream",
          "name": "stdout",
          "text": [
            "P(30s):0.08319\n"
          ]
        }
      ]
    },
    {
      "cell_type": "code",
      "source": [
        "PFF = float(purchases[60])/ 100000.0\n",
        "print('P(60s):' + str(PFF))"
      ],
      "metadata": {
        "colab": {
          "base_uri": "https://localhost:8080/"
        },
        "id": "U5VS4o5uiILe",
        "outputId": "3fe2d9c1-5abc-4457-8eca-acc0ea863d0f"
      },
      "execution_count": null,
      "outputs": [
        {
          "output_type": "stream",
          "name": "stdout",
          "text": [
            "P(60s):0.09944\n"
          ]
        }
      ]
    },
    {
      "cell_type": "code",
      "source": [
        "PE = float(totalPurchases)/ 100000.0\n",
        "print('P(purchase):' + str(PE))"
      ],
      "metadata": {
        "colab": {
          "base_uri": "https://localhost:8080/"
        },
        "id": "cuh4dkrOrGA7",
        "outputId": "c4b796c2-a4a5-47cf-f008-bb315ed75759"
      },
      "execution_count": null,
      "outputs": [
        {
          "output_type": "stream",
          "name": "stdout",
          "text": [
            "P(purchase):0.45012\n"
          ]
        }
      ]
    },
    {
      "cell_type": "code",
      "source": [
        "print('P(30`s Purchase):' + str(float(purchases[30])/100000.0))"
      ],
      "metadata": {
        "colab": {
          "base_uri": "https://localhost:8080/"
        },
        "id": "76GDNaKUjkmV",
        "outputId": "839904d4-abd3-4063-cad0-b23033658683"
      },
      "execution_count": null,
      "outputs": [
        {
          "output_type": "stream",
          "name": "stdout",
          "text": [
            "P(30`s Purchase):0.04974\n"
          ]
        }
      ]
    },
    {
      "cell_type": "code",
      "source": [
        "print('P(20`s Purchase):' + str(float(purchases[20])/100000.0))"
      ],
      "metadata": {
        "colab": {
          "base_uri": "https://localhost:8080/"
        },
        "id": "ly54TaAPkEK2",
        "outputId": "8880c6b4-8eca-414c-e11f-9a97cf407632"
      },
      "execution_count": null,
      "outputs": [
        {
          "output_type": "stream",
          "name": "stdout",
          "text": [
            "P(20`s Purchase):0.03392\n"
          ]
        }
      ]
    },
    {
      "cell_type": "code",
      "source": [
        "print('P(30`s) & P(Purchases):' + str(PE * PF))"
      ],
      "metadata": {
        "colab": {
          "base_uri": "https://localhost:8080/"
        },
        "id": "Ev2zOdYIk-UV",
        "outputId": "09a4bc2d-1919-4340-bea5-cb44e435eee6"
      },
      "execution_count": null,
      "outputs": [
        {
          "output_type": "stream",
          "name": "stdout",
          "text": [
            "P(30`s) & P(Purchases):0.022388968800000002\n"
          ]
        }
      ]
    },
    {
      "cell_type": "code",
      "source": [
        "print(((purchases[30])/100000.0)/ PF)"
      ],
      "metadata": {
        "colab": {
          "base_uri": "https://localhost:8080/"
        },
        "id": "AFvtUUoKlK-9",
        "outputId": "6f645de1-0fc5-447a-c18a-529a573ff047"
      },
      "execution_count": null,
      "outputs": [
        {
          "output_type": "stream",
          "name": "stdout",
          "text": [
            "1.0\n"
          ]
        }
      ]
    },
    {
      "cell_type": "code",
      "source": [
        "print(((purchases[20])/100000.0)/ PF)"
      ],
      "metadata": {
        "colab": {
          "base_uri": "https://localhost:8080/"
        },
        "id": "MIo5QbcxqDP8",
        "outputId": "e5f6ac7f-911c-4830-951f-45bb3f6ad1f0"
      },
      "execution_count": null,
      "outputs": [
        {
          "output_type": "stream",
          "name": "stdout",
          "text": [
            "0.68194611982308\n"
          ]
        }
      ]
    },
    {
      "cell_type": "markdown",
      "source": [
        "Compute the product of P(E) and P(F), P(E)P(F)"
      ],
      "metadata": {
        "id": "hsi5i0xjqWSL"
      }
    },
    {
      "cell_type": "code",
      "source": [
        "PEPF = float(purchases[50])/ 100000.0\n",
        "print('Product of P(E) and P(F):' + str(PE * PF))"
      ],
      "metadata": {
        "colab": {
          "base_uri": "https://localhost:8080/"
        },
        "id": "ySb6zVj3l4YO",
        "outputId": "ad0ca0fa-606c-44d1-df63-8ace400bf3f1"
      },
      "execution_count": null,
      "outputs": [
        {
          "output_type": "stream",
          "name": "stdout",
          "text": [
            "Product of P(E) and P(F):0.022388968800000002\n"
          ]
        }
      ]
    },
    {
      "cell_type": "markdown",
      "source": [
        "Learning Task:\n",
        "Modify the code above such that the purchases probability does not vary with the age, making E & F actually independent.\n",
        "\n",
        "Then, confirm that P(E|F) is about the same as P(E), showing that the conditional probability of purchase for a given age is not any different than the a-apriori probability of purchase regardless of Age."
      ],
      "metadata": {
        "id": "pkDGYG9xm5Hc"
      }
    },
    {
      "cell_type": "code",
      "source": [
        "from numpy import random\n",
        "\n",
        "random.seed(0)\n",
        "\n",
        "totals = {20:0, 30:0, 40:0, 50:0, 60:0, 70:0}\n",
        "purchases = {20:0, 30:0, 40:0, 50:0, 60:0, 70:0}\n",
        "totalPurchases = 0\n",
        "\n",
        "for _ in range(100000):\n",
        "  ageDecade = random.choice([20,30,40,50,60,70])\n",
        "  purchaseProbability = 0.5\n",
        "  totals[ageDecade] += 1\n",
        "  if (random.random() < purchaseProbability):\n",
        "    totalPurchases += 1\n",
        "    purchases[ageDecade] += 1"
      ],
      "metadata": {
        "id": "1HCjxAI1v4sZ"
      },
      "execution_count": null,
      "outputs": []
    },
    {
      "cell_type": "code",
      "source": [
        "totals"
      ],
      "metadata": {
        "colab": {
          "base_uri": "https://localhost:8080/"
        },
        "id": "ut2NP84cxmUB",
        "outputId": "efbe1a36-2c2e-4bda-85e5-4f9e9b2a5359"
      },
      "execution_count": null,
      "outputs": [
        {
          "output_type": "execute_result",
          "data": {
            "text/plain": [
              "{20: 16576, 30: 16619, 40: 16632, 50: 16805, 60: 16664, 70: 16704}"
            ]
          },
          "metadata": {},
          "execution_count": 128
        }
      ]
    },
    {
      "cell_type": "code",
      "source": [
        "purchases"
      ],
      "metadata": {
        "colab": {
          "base_uri": "https://localhost:8080/"
        },
        "id": "nZxELnM0xoth",
        "outputId": "58f99ced-ec4a-4d3d-ee8b-0598a35b8c7b"
      },
      "execution_count": null,
      "outputs": [
        {
          "output_type": "execute_result",
          "data": {
            "text/plain": [
              "{20: 8378, 30: 8293, 40: 8364, 50: 8319, 60: 8276, 70: 8456}"
            ]
          },
          "metadata": {},
          "execution_count": 129
        }
      ]
    },
    {
      "cell_type": "code",
      "source": [
        "totalPurchases"
      ],
      "metadata": {
        "colab": {
          "base_uri": "https://localhost:8080/"
        },
        "id": "f0poNgBexppx",
        "outputId": "8e46f029-3f0f-467b-c38e-a560ddf8c94f"
      },
      "execution_count": null,
      "outputs": [
        {
          "output_type": "execute_result",
          "data": {
            "text/plain": [
              "50086"
            ]
          },
          "metadata": {},
          "execution_count": 130
        }
      ]
    },
    {
      "cell_type": "code",
      "source": [
        "PEEF = float(purchases[50]) / float(totals[50])\n",
        "print('Purchase | 50s (w/ age & purchase are different):' + str(PEEF))"
      ],
      "metadata": {
        "colab": {
          "base_uri": "https://localhost:8080/"
        },
        "id": "mReyKg-hmpDV",
        "outputId": "312fe63c-6233-4813-ec69-e23e84453b44"
      },
      "execution_count": null,
      "outputs": [
        {
          "output_type": "stream",
          "name": "stdout",
          "text": [
            "Purchase | 50s (w/ age & purchase are different):0.49503124070217197\n"
          ]
        }
      ]
    },
    {
      "cell_type": "code",
      "source": [
        "PEE = float(totalPurchases)/ 100000.0\n",
        "print('Total Purchase:' + str(PEE))"
      ],
      "metadata": {
        "colab": {
          "base_uri": "https://localhost:8080/"
        },
        "id": "O4BkXwi8v-3i",
        "outputId": "62f3361b-0b24-4a23-c4a4-af30d0f8562c"
      },
      "execution_count": null,
      "outputs": [
        {
          "output_type": "stream",
          "name": "stdout",
          "text": [
            "Total Purchase:0.50086\n"
          ]
        }
      ]
    }
  ]
}