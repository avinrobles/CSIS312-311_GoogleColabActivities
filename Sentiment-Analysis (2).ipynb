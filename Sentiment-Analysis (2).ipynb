{
  "nbformat": 4,
  "nbformat_minor": 0,
  "metadata": {
    "colab": {
      "provenance": []
    },
    "kernelspec": {
      "name": "python3",
      "display_name": "Python 3"
    },
    "language_info": {
      "name": "python"
    }
  },
  "cells": [
    {
      "cell_type": "code",
      "execution_count": null,
      "metadata": {
        "colab": {
          "base_uri": "https://localhost:8080/"
        },
        "id": "WshLACWBgJVF",
        "outputId": "32358f29-dfa5-4891-989e-314b064562eb"
      },
      "outputs": [
        {
          "output_type": "stream",
          "name": "stdout",
          "text": [
            "Text: This is a negative sentence :)\n",
            "Sentiment: Negative\n",
            "Compound Score: -0.1027\n"
          ]
        },
        {
          "output_type": "stream",
          "name": "stderr",
          "text": [
            "[nltk_data] Downloading package vader_lexicon to /root/nltk_data...\n",
            "[nltk_data]   Package vader_lexicon is already up-to-date!\n"
          ]
        }
      ],
      "source": [
        "import nltk\n",
        "from nltk.sentiment.vader import SentimentIntensityAnalyzer\n",
        "\n",
        "# Download VADER lexicon (if not already downloaded)\n",
        "nltk.download('vader_lexicon')\n",
        "\n",
        "# Initialize the VADER sentiment analyzer\n",
        "sia = SentimentIntensityAnalyzer()\n",
        "\n",
        "# Sample text for sentiment analysis\n",
        "text = \"This is a negative sentence :)\"\n",
        "\n",
        "# Reminder that any words related to positive is considered as 0 or greater/equal to 1\n",
        "# However, if any words that are related to negativity. It is considered as -1 or less than 0\n",
        "\n",
        "# Get sentiment scores\n",
        "sentiment_scores = sia.polarity_scores(text)\n",
        "\n",
        "# Interpret the sentiment scores\n",
        "compound_score = sentiment_scores['compound']\n",
        "if compound_score >= 0.05:\n",
        "    sentiment = \"Positive\"\n",
        "elif compound_score <= -0.05:\n",
        "    sentiment = \"Negative\"\n",
        "else:\n",
        "    sentiment = \"Neutral\"\n",
        "\n",
        "# Print the results\n",
        "print(f\"Text: {text}\")\n",
        "print(f\"Sentiment: {sentiment}\")\n",
        "print(f\"Compound Score: {compound_score}\")"
      ]
    }
  ]
}